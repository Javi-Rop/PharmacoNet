{
 "cells": [
  {
   "cell_type": "code",
   "execution_count": 16,
   "metadata": {},
   "outputs": [],
   "source": [
    "import sys\n",
    "sys.path.append('/home/javier_rodriguez/modelos_quimica/kmt-linna-modelos-quimica/PharmacoNet/')\n",
    "\n",
    "\n",
    "from src import PharmacophoreModel\n",
    "from openbabel import pybel\n",
    "\n",
    "# model = PharmacophoreModel.load(\"/home/javier_rodriguez/modelos_quimica/kmt-linna-modelos-quimica/PharmacoNet/weights/model.tar\")\n",
    "model = PharmacophoreModel.load(\"/home/javier_rodriguez/modelos_quimica/kmt-linna-modelos-quimica/PharmacoNet/examples/6OIM_model.json\")\n",
    "\n",
    "pbmol = pybel.readstring('smi', \"C1=CC(=NC(=C1)Cl)C(Cl)(Cl)Cl\" )\n",
    "\n",
    "# NOTE: Scoring with RDKit ETKDG Conformers\n",
    "def scoring_etkdg_conformers(model, pbmol, smiles, num_conformers):\n",
    "    from rdkit import Chem\n",
    "    from rdkit.Chem import AllChem\n",
    "    rdmol = Chem.MolFromSmiles(smiles)\n",
    "    rdmol = Chem.AddHs(rdmol)\n",
    "    AllChem.EmbedMultipleConfs(rdmol, num_conformers, AllChem.srETKDGv3())\n",
    "    rdmol = Chem.RemoveHs(rdmol)\n",
    "    return model.scoring(pbmol, rdmol)\n",
    "\n",
    "# NOTE: Scoring with custom ligand conformers.\n",
    "def scoring_own_conformers(model, pbmol, atom_positions):\n",
    "    # atom_positions: [NUM_CONFORMERS, NUM_ATOMS, 3]\n",
    "    return model.scoring(pbmol, atom_positions=atom_positions)"
   ]
  },
  {
   "cell_type": "code",
   "execution_count": null,
   "metadata": {},
   "outputs": [],
   "source": []
  }
 ],
 "metadata": {
  "kernelspec": {
   "display_name": "pmnet",
   "language": "python",
   "name": "python3"
  },
  "language_info": {
   "codemirror_mode": {
    "name": "ipython",
    "version": 3
   },
   "file_extension": ".py",
   "mimetype": "text/x-python",
   "name": "python",
   "nbconvert_exporter": "python",
   "pygments_lexer": "ipython3",
   "version": "3.11.8"
  }
 },
 "nbformat": 4,
 "nbformat_minor": 2
}
